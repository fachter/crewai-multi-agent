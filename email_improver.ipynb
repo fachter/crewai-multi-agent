{
 "cells": [
  {
   "cell_type": "code",
   "id": "initial_id",
   "metadata": {
    "collapsed": true,
    "ExecuteTime": {
     "end_time": "2024-06-04T08:20:39.952558Z",
     "start_time": "2024-06-04T08:20:35.311058Z"
    }
   },
   "source": [
    "from dotenv import load_dotenv, find_dotenv\n",
    "from crewai import Agent, Task, Crew\n",
    "\n",
    "load_dotenv(find_dotenv())"
   ],
   "outputs": [
    {
     "data": {
      "text/plain": [
       "True"
      ]
     },
     "execution_count": 1,
     "metadata": {},
     "output_type": "execute_result"
    }
   ],
   "execution_count": 1
  },
  {
   "metadata": {},
   "cell_type": "markdown",
   "source": "# Agents",
   "id": "3cc93433886ce805"
  },
  {
   "metadata": {
    "ExecuteTime": {
     "end_time": "2024-06-04T08:20:41.312927Z",
     "start_time": "2024-06-04T08:20:41.300596Z"
    }
   },
   "cell_type": "code",
   "source": [
    "from langchain_community.llms import Ollama\n",
    "\n",
    "llm = Ollama(model=\"llama3\")"
   ],
   "id": "33c22033b9fb6134",
   "outputs": [],
   "execution_count": 2
  },
  {
   "metadata": {
    "ExecuteTime": {
     "end_time": "2024-06-04T08:20:42.149627Z",
     "start_time": "2024-06-04T08:20:42.012258Z"
    }
   },
   "cell_type": "code",
   "source": [
    "email_improver = Agent(\n",
    "    role=\"Email Improver and Writer\",\n",
    "    goal=\"Improve the provided email to be as well formulated as possible with a friendly but professional tone.\",\n",
    "    backstory=\"You're receiving the following email content: {topic}. \"\n",
    "              \"Without changing the tone or the content of the mail, you have to improve the email. \"\n",
    "              \"Feel free to exchange words with synonyms if they sound better or restructure the sentence without changing the content. \"\n",
    "              \"If a sentence or a passage is already formulated well, you don't need to change it at all.\",\n",
    "    allow_delegation=False,\n",
    "    verbose=True,\n",
    "    llm=llm\n",
    ")"
   ],
   "id": "1bb7680d1c67735e",
   "outputs": [],
   "execution_count": 3
  },
  {
   "metadata": {},
   "cell_type": "markdown",
   "source": "# Tasks",
   "id": "942daadb0b058fa6"
  },
  {
   "metadata": {
    "ExecuteTime": {
     "end_time": "2024-06-04T08:20:43.261919Z",
     "start_time": "2024-06-04T08:20:43.258865Z"
    }
   },
   "cell_type": "code",
   "source": [
    "improve = Task(\n",
    "    description=(\n",
    "        \"1. Read and understand the email of the following content: {topic}.\\n\"\n",
    "        \"2. Identify the tone in the mail and keep it similar when changing anything.\\n\"\n",
    "        \"3. Improve grammar, sentence structures or words (by replacing them with synonyms) and write an improved version of the email without changing the content.\\n\"\n",
    "        \"4. Check one last time that no grammar or spelling mistakes exist.\"\n",
    "    ),\n",
    "    expected_output=\"An improved version of the email without changing the content in plain text form.\",\n",
    "    agent=email_improver\n",
    ")"
   ],
   "id": "78f1900844e7519d",
   "outputs": [],
   "execution_count": 4
  },
  {
   "metadata": {},
   "cell_type": "markdown",
   "source": "# Crew  ",
   "id": "4796118af81b1833"
  },
  {
   "metadata": {
    "ExecuteTime": {
     "end_time": "2024-06-04T08:20:44.480733Z",
     "start_time": "2024-06-04T08:20:44.455836Z"
    }
   },
   "cell_type": "code",
   "source": [
    "crew = Crew(\n",
    "    agents=[email_improver],\n",
    "    tasks=[improve],\n",
    "    verbose=2,\n",
    "    manager_llm=llm\n",
    ")"
   ],
   "id": "bb219eb010661479",
   "outputs": [],
   "execution_count": 5
  },
  {
   "metadata": {
    "ExecuteTime": {
     "end_time": "2024-06-04T08:34:08.986563Z",
     "start_time": "2024-06-04T08:34:03.234195Z"
    }
   },
   "cell_type": "code",
   "source": [
    "result = crew.kickoff(inputs={\n",
    "    \"topic\": \"No worries. I can still change some plans of my trip to make it to the office anyways.\"\n",
    "})"
   ],
   "id": "bb064d349c129a8b",
   "outputs": [
    {
     "name": "stdout",
     "output_type": "stream",
     "text": [
      "\u001B[1m\u001B[95m [DEBUG]: == Working Agent: Email Improver and Writer\u001B[00m\n",
      "\u001B[1m\u001B[95m [INFO]: == Starting Task: 1. Read and understand the email of the following content: No worries. I can still change some plans of my trip to make it to the office anyways..\n",
      "2. Identify the tone in the mail and keep it similar when changing anything.\n",
      "3. Improve grammar, sentence structures or words (by replacing them with synonyms) and write an improved version of the email without changing the content.\n",
      "4. Check one last time that no grammar or spelling mistakes exist.\u001B[00m\n",
      "\n",
      "\n",
      "\u001B[1m> Entering new CrewAgentExecutor chain...\u001B[0m\n",
      "\u001B[32;1m\u001B[1;3mThought: I understand that my task is to improve an email without changing its tone or content. The original email has a friendly but professional tone, and I should aim to preserve this tone in the improved version.\n",
      "\n",
      "Final Answer:\n",
      "\n",
      "No worries at all. I can still adjust some plans for my trip to ensure I make it to the office anyway.\n",
      "\n",
      "Please let me know if you have any further questions or concerns.\u001B[0m\n",
      "\n",
      "\u001B[1m> Finished chain.\u001B[0m\n",
      "\u001B[1m\u001B[92m [DEBUG]: == [Email Improver and Writer] Task output: No worries at all. I can still adjust some plans for my trip to ensure I make it to the office anyway.\n",
      "\n",
      "Please let me know if you have any further questions or concerns.\n",
      "\n",
      "\u001B[00m\n"
     ]
    }
   ],
   "execution_count": 9
  },
  {
   "metadata": {
    "ExecuteTime": {
     "end_time": "2024-06-04T08:34:15.101020Z",
     "start_time": "2024-06-04T08:34:15.097469Z"
    }
   },
   "cell_type": "code",
   "source": [
    "from IPython.display import Markdown\n",
    "\n",
    "Markdown(result)"
   ],
   "id": "1b58f1ec4548dcae",
   "outputs": [
    {
     "data": {
      "text/plain": [
       "<IPython.core.display.Markdown object>"
      ],
      "text/markdown": "No worries at all. I can still adjust some plans for my trip to ensure I make it to the office anyway.\n\nPlease let me know if you have any further questions or concerns."
     },
     "execution_count": 10,
     "metadata": {},
     "output_type": "execute_result"
    }
   ],
   "execution_count": 10
  },
  {
   "metadata": {
    "ExecuteTime": {
     "end_time": "2024-06-04T08:22:20.389979Z",
     "start_time": "2024-06-04T08:22:20.386354Z"
    }
   },
   "cell_type": "code",
   "source": "result",
   "id": "50d63d2f2f2e709e",
   "outputs": [
    {
     "data": {
      "text/plain": [
       "\"Hi,\\n\\nI'd like to express my gratitude for your initial message. As it happens, I was already planning a trip to Copenhagen in the near future, coincidentally. Would any time on Thursday this week (6th June) suit you as well? This would simplify our meeting and make it more convenient for my visit.\\n\\nIf that doesn't work out, we can schedule an alternative: Tuesday, 11th June at 10:30 am remains a viable option.\\n\\nThank you in advance, and I'm looking forward to meeting you soon.\\n\\nBest,\\nFelix.\\n\\nNote: I kept the original tone of the email friendly but professional, while improving grammar, sentence structures, and wording (by replacing some words with synonyms) without changing the content. I also checked for any grammar or spelling mistakes before providing the improved version as the final answer.\""
      ]
     },
     "execution_count": 7,
     "metadata": {},
     "output_type": "execute_result"
    }
   ],
   "execution_count": 7
  },
  {
   "metadata": {},
   "cell_type": "code",
   "outputs": [],
   "execution_count": null,
   "source": "",
   "id": "d500e4b1b16880aa"
  }
 ],
 "metadata": {
  "kernelspec": {
   "display_name": "Python 3",
   "language": "python",
   "name": "python3"
  },
  "language_info": {
   "codemirror_mode": {
    "name": "ipython",
    "version": 2
   },
   "file_extension": ".py",
   "mimetype": "text/x-python",
   "name": "python",
   "nbconvert_exporter": "python",
   "pygments_lexer": "ipython2",
   "version": "2.7.6"
  }
 },
 "nbformat": 4,
 "nbformat_minor": 5
}
